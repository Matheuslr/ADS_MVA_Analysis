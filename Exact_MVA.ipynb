{
 "cells": [
  {
   "cell_type": "code",
   "execution_count": 2,
   "id": "d89f3976-e448-4016-91fa-98dc61faf1e1",
   "metadata": {},
   "outputs": [
    {
     "name": "stdout",
     "output_type": "stream",
     "text": [
      "Iteracao 1 - | R_cpu = 0.125 | R_d1 = 0.300 | R_d2 = 0.200 | R_system = 6.000 | X0 = 0.100 | N_cpu = 0.200 | N_d1 = 0.300 | N_d2 = 0.100\n",
      "Iteracao 2 - | R_cpu = 0.150 | R_d1 = 0.390 | R_d2 = 0.220 | R_system = 7.400 | X0 = 0.175 | N_cpu = 0.421 | N_d1 = 0.684 | N_d2 = 0.193\n",
      "Iteracao 3 - | R_cpu = 0.178 | R_d1 = 0.505 | R_d2 = 0.239 | R_system = 9.088 | X0 = 0.229 | N_cpu = 0.651 | N_d1 = 1.158 | N_d2 = 0.273\n",
      "Iteracao 4 - | R_cpu = 0.206 | R_d1 = 0.647 | R_d2 = 0.255 | R_system = 11.051 | X0 = 0.266 | N_cpu = 0.878 | N_d1 = 1.721 | N_d2 = 0.338\n",
      "Iteracao 5 - | R_cpu = 0.235 | R_d1 = 0.816 | R_d2 = 0.268 | R_system = 13.256 | X0 = 0.290 | N_cpu = 1.088 | N_d1 = 2.365 | N_d2 = 0.388\n",
      "Iteracao 6 - | R_cpu = 0.261 | R_d1 = 1.009 | R_d2 = 0.278 | R_system = 15.659 | X0 = 0.305 | N_cpu = 1.275 | N_d1 = 3.081 | N_d2 = 0.424\n",
      "Iteracao 7 - | R_cpu = 0.284 | R_d1 = 1.224 | R_d2 = 0.285 | R_system = 18.216 | X0 = 0.315 | N_cpu = 1.433 | N_d1 = 3.858 | N_d2 = 0.449\n",
      "Iteracao 8 - | R_cpu = 0.304 | R_d1 = 1.457 | R_d2 = 0.290 | R_system = 20.888 | X0 = 0.321 | N_cpu = 1.564 | N_d1 = 4.684 | N_d2 = 0.466\n",
      "Iteracao 9 - | R_cpu = 0.321 | R_d1 = 1.705 | R_d2 = 0.293 | R_system = 23.647 | X0 = 0.326 | N_cpu = 1.670 | N_d1 = 5.551 | N_d2 = 0.477\n",
      "Iteracao 10 - | R_cpu = 0.334 | R_d1 = 1.965 | R_d2 = 0.295 | R_system = 26.470 | X0 = 0.328 | N_cpu = 1.752 | N_d1 = 6.450 | N_d2 = 0.485\n",
      "Iteracao 11 - | R_cpu = 0.344 | R_d1 = 2.235 | R_d2 = 0.297 | R_system = 29.340 | X0 = 0.330 | N_cpu = 1.816 | N_d1 = 7.374 | N_d2 = 0.490\n",
      "Iteracao 12 - | R_cpu = 0.352 | R_d1 = 2.512 | R_d2 = 0.298 | R_system = 32.245 | X0 = 0.331 | N_cpu = 1.865 | N_d1 = 8.318 | N_d2 = 0.493\n",
      "Iteracao 13 - | R_cpu = 0.358 | R_d1 = 2.795 | R_d2 = 0.299 | R_system = 35.176 | X0 = 0.332 | N_cpu = 1.901 | N_d1 = 9.276 | N_d2 = 0.496\n",
      "Iteracao 14 - | R_cpu = 0.363 | R_d1 = 3.083 | R_d2 = 0.299 | R_system = 38.126 | X0 = 0.332 | N_cpu = 1.928 | N_d1 = 10.245 | N_d2 = 0.497\n",
      "Iteracao 15 - | R_cpu = 0.366 | R_d1 = 3.374 | R_d2 = 0.299 | R_system = 41.089 | X0 = 0.333 | N_cpu = 1.948 | N_d1 = 11.223 | N_d2 = 0.498\n",
      "Iteracao 16 - | R_cpu = 0.369 | R_d1 = 3.667 | R_d2 = 0.300 | R_system = 44.064 | X0 = 0.333 | N_cpu = 1.963 | N_d1 = 12.207 | N_d2 = 0.499\n",
      "Iteracao 17 - | R_cpu = 0.370 | R_d1 = 3.962 | R_d2 = 0.300 | R_system = 47.045 | X0 = 0.333 | N_cpu = 1.974 | N_d1 = 13.195 | N_d2 = 0.499\n",
      "Iteracao 18 - | R_cpu = 0.372 | R_d1 = 4.259 | R_d2 = 0.300 | R_system = 50.032 | X0 = 0.333 | N_cpu = 1.981 | N_d1 = 14.187 | N_d2 = 0.499\n",
      "Iteracao 19 - | R_cpu = 0.373 | R_d1 = 4.556 | R_d2 = 0.300 | R_system = 53.022 | X0 = 0.333 | N_cpu = 1.987 | N_d1 = 15.181 | N_d2 = 0.500\n",
      "Iteracao 20 - | R_cpu = 0.373 | R_d1 = 4.854 | R_d2 = 0.300 | R_system = 56.016 | X0 = 0.333 | N_cpu = 1.991 | N_d1 = 16.177 | N_d2 = 0.500\n"
     ]
    }
   ],
   "source": [
    "K = 3\n",
    "N = 20\n",
    "R = 0\n",
    "Z = 4\n",
    "Ni = []\n",
    "Ri = []\n",
    "Si = [0.125, 0.3, 0.2]\n",
    "Vi = [16, 10, 5]\n",
    "X0 = 0\n",
    "csv_keys = [\"No\", \"R_cpu\", \"R_d1\", \"R_d2\", \"R_sys\", \"X0\", \"N_cpu\", \"N_d1\", \"N_d2\"]\n",
    "csv_values = []\n",
    "\n",
    "for i in range(K):\n",
    "    Ni.append(0)\n",
    "    Ri.append(0)\n",
    "\n",
    "for n in range(N):\n",
    "    R = 0\n",
    "    for i in range(K):\n",
    "        Ri[i] = Si[i] * (1 + Ni[i])\n",
    "    for i in range(K):\n",
    "        R += Ri[i] * Vi[i]\n",
    "    X0 = (n + 1) / (R + Z)\n",
    "    for i in range(K):\n",
    "        Ni[i] = X0 * Vi[i] * Ri[i]\n",
    "\n",
    "    print(\n",
    "        f\"Iteracao {n+1} -\"\n",
    "        f\" | R_cpu = {format(Ri[0], '.3f')}\"\n",
    "        f\" | R_d1 = {format(Ri[1], '.3f')}\"\n",
    "        f\" | R_d2 = {format(Ri[2], '.3f')}\"\n",
    "        f\" | R_system = {format(R, '.3f')}\"\n",
    "        f\" | X0 = {format(X0, '.3f')}\"\n",
    "        f\" | N_cpu = {format(Ni[0], '.3f')}\"\n",
    "        f\" | N_d1 = {format(Ni[1], '.3f')}\"\n",
    "        f\" | N_d2 = {format(Ni[2], '.3f')}\"\n",
    "    )\n",
    "    csv_values.append([\n",
    "            n+1,\n",
    "            float(format(Ri[0], '.3f')),\n",
    "            float(format(Ri[1], '.3f')),\n",
    "            float(format(Ri[2], '.3f')),\n",
    "            float(format(R, '.3f')),\n",
    "            float(format(X0, '.3f')),\n",
    "            float(format(Ni[0], '.3f')),\n",
    "            float(format(Ni[1], '.3f')),\n",
    "            float(format(Ni[2], '.3f'))\n",
    "        ])\n"
   ]
  },
  {
   "cell_type": "code",
   "execution_count": 3,
   "id": "402f543a-b56e-4189-810e-856c397dfdf9",
   "metadata": {},
   "outputs": [],
   "source": [
    "import csv\n",
    "\n",
    "with open('output.csv', 'w', newline='') as csvfile:\n",
    "    writer = csv.writer(csvfile)\n",
    "    writer.writerow(csv_keys)\n",
    "    writer.writerows(csv_values)"
   ]
  }
 ],
 "metadata": {
  "kernelspec": {
   "display_name": "Python 3 (ipykernel)",
   "language": "python",
   "name": "python3"
  },
  "language_info": {
   "codemirror_mode": {
    "name": "ipython",
    "version": 3
   },
   "file_extension": ".py",
   "mimetype": "text/x-python",
   "name": "python",
   "nbconvert_exporter": "python",
   "pygments_lexer": "ipython3",
   "version": "3.12.8"
  }
 },
 "nbformat": 4,
 "nbformat_minor": 5
}
