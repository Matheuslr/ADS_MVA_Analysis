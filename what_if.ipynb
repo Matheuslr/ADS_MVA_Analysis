{
 "cells": [
  {
   "cell_type": "code",
   "execution_count": 2,
   "id": "64bb17cb-697b-42f9-bfc1-fa69dfd5bc01",
   "metadata": {},
   "outputs": [],
   "source": [
    "import numpy as np"
   ]
  },
  {
   "cell_type": "markdown",
   "id": "1e115c9c-4e1c-4fc3-87ad-9702dfc4d1f7",
   "metadata": {},
   "source": [
    "Exercício 1"
   ]
  },
  {
   "cell_type": "code",
   "execution_count": 16,
   "id": "975c63f4-8e8e-4e50-889b-a6c0b2797055",
   "metadata": {},
   "outputs": [],
   "source": [
    "matrix = np.loadtxt('matrix_2.csv', delimiter=',')\n",
    "B = [0]*matrix[0].size\n",
    "B[-1] = 1"
   ]
  },
  {
   "cell_type": "code",
   "execution_count": 17,
   "id": "00f9c00a-7667-4c91-97ec-7b225cde1454",
   "metadata": {},
   "outputs": [
    {
     "data": {
      "text/plain": [
       "array([ 0.05438841,  0.03032811,  0.10250902,  0.02138132,  0.0482217 ,\n",
       "        0.21108366,  0.0156948 ,  0.03002483,  0.03002483,  0.64553387,\n",
       "        0.0117711 ,  0.02285981,  0.03002483, -2.51935629,  2.26550999])"
      ]
     },
     "execution_count": 17,
     "metadata": {},
     "output_type": "execute_result"
    }
   ],
   "source": [
    "r = np.linalg.solve(matrix,B)\n",
    "r"
   ]
  },
  {
   "cell_type": "code",
   "execution_count": 18,
   "id": "c2e7555e-820d-43d4-a3c4-814d79c76bdf",
   "metadata": {},
   "outputs": [
    {
     "data": {
      "text/plain": [
       "np.float64(1.0000000000000004)"
      ]
     },
     "execution_count": 18,
     "metadata": {},
     "output_type": "execute_result"
    }
   ],
   "source": [
    "r.sum()"
   ]
  },
  {
   "cell_type": "code",
   "execution_count": 19,
   "id": "066b6c52-c38f-484b-8a46-8946bbb0c1d0",
   "metadata": {},
   "outputs": [
    {
     "data": {
      "text/plain": [
       "np.float64(1.1891905553203728)"
      ]
     },
     "execution_count": 19,
     "metadata": {},
     "output_type": "execute_result"
    }
   ],
   "source": [
    "r[0]+r[1]+r[2]+r[3]+r[4]+r[5]+r[6]+r[7]+r[8]+r[9]"
   ]
  },
  {
   "cell_type": "markdown",
   "id": "ca171d3a-7967-4bf1-9cd9-b9b89d797626",
   "metadata": {},
   "source": [
    "Exercício 2"
   ]
  },
  {
   "cell_type": "code",
   "execution_count": 6,
   "id": "07eb4c37-c39f-4b0c-ab23-946f30eef95b",
   "metadata": {},
   "outputs": [],
   "source": [
    "matrix = np.loadtxt('matrix_1.csv', delimiter=',')\n",
    "B = [0]*matrix[0].size\n",
    "B[-1] = 1"
   ]
  },
  {
   "cell_type": "code",
   "execution_count": 9,
   "id": "999b62bd-be41-475b-8de0-9ddcd350dc48",
   "metadata": {},
   "outputs": [
    {
     "data": {
      "text/plain": [
       "array([0.07692308, 0.23076923, 0.69230769])"
      ]
     },
     "execution_count": 9,
     "metadata": {},
     "output_type": "execute_result"
    }
   ],
   "source": [
    "r = np.linalg.solve(matrix,B)\n",
    "r"
   ]
  },
  {
   "cell_type": "code",
   "execution_count": 10,
   "id": "61b164df-ca0a-4169-81a8-2e7254dd0b32",
   "metadata": {},
   "outputs": [
    {
     "data": {
      "text/plain": [
       "np.float64(1.0)"
      ]
     },
     "execution_count": 10,
     "metadata": {},
     "output_type": "execute_result"
    }
   ],
   "source": [
    "r.sum()"
   ]
  },
  {
   "cell_type": "code",
   "execution_count": 12,
   "id": "3df5d7d1-e031-4917-bee0-67bbd53e09f9",
   "metadata": {},
   "outputs": [
    {
     "data": {
      "text/plain": [
       "np.float64(0.30769230769230765)"
      ]
     },
     "execution_count": 12,
     "metadata": {},
     "output_type": "execute_result"
    }
   ],
   "source": [
    "r[0]+r[1]"
   ]
  }
 ],
 "metadata": {
  "kernelspec": {
   "display_name": "Python 3 (ipykernel)",
   "language": "python",
   "name": "python3"
  },
  "language_info": {
   "codemirror_mode": {
    "name": "ipython",
    "version": 3
   },
   "file_extension": ".py",
   "mimetype": "text/x-python",
   "name": "python",
   "nbconvert_exporter": "python",
   "pygments_lexer": "ipython3",
   "version": "3.12.8"
  }
 },
 "nbformat": 4,
 "nbformat_minor": 5
}
