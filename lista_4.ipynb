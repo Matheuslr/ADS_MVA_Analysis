{
 "cells": [
  {
   "cell_type": "code",
   "execution_count": 1,
   "id": "a5c58240-7d26-4d35-9c7a-cf49b2850bd0",
   "metadata": {},
   "outputs": [],
   "source": [
    "import numpy as np"
   ]
  },
  {
   "cell_type": "markdown",
   "id": "91e9b690-6b63-4b08-ba78-0b9a36cff71b",
   "metadata": {},
   "source": [
    "Exercicio 1"
   ]
  },
  {
   "cell_type": "code",
   "execution_count": 22,
   "id": "35593b3f-a4b2-4f88-b936-e715350cebf5",
   "metadata": {},
   "outputs": [],
   "source": [
    "matrix = np.loadtxt('matrix_lista_4_ex_1.csv', delimiter=',')\n",
    "B = [0]*matrix[0].size\n",
    "B[-1] = 1"
   ]
  },
  {
   "cell_type": "code",
   "execution_count": 23,
   "id": "17a24986-5c6e-41a7-b933-6855a7940a95",
   "metadata": {},
   "outputs": [
    {
     "data": {
      "text/plain": [
       "array([0.18903592, 0.01701323, 0.18903592, 0.11342155, 0.11342155,\n",
       "       0.37807183])"
      ]
     },
     "execution_count": 23,
     "metadata": {},
     "output_type": "execute_result"
    }
   ],
   "source": [
    "r = np.linalg.solve(matrix,B)\n",
    "r"
   ]
  },
  {
   "cell_type": "code",
   "execution_count": 19,
   "id": "6493832d-17a7-44fc-b120-4921bfae68c8",
   "metadata": {},
   "outputs": [
    {
     "data": {
      "text/plain": [
       "np.float64(0.9999999999999993)"
      ]
     },
     "execution_count": 19,
     "metadata": {},
     "output_type": "execute_result"
    }
   ],
   "source": [
    "r.sum()"
   ]
  },
  {
   "cell_type": "code",
   "execution_count": 29,
   "id": "d73372cb-c864-4936-8271-e470ba5c9aa8",
   "metadata": {},
   "outputs": [
    {
     "data": {
      "text/plain": [
       "np.float64(0.6805293005671078)"
      ]
     },
     "execution_count": 29,
     "metadata": {},
     "output_type": "execute_result"
    }
   ],
   "source": [
    "r[0]+r[3]+r[ 5]"
   ]
  }
 ],
 "metadata": {
  "kernelspec": {
   "display_name": "Python 3 (ipykernel)",
   "language": "python",
   "name": "python3"
  },
  "language_info": {
   "codemirror_mode": {
    "name": "ipython",
    "version": 3
   },
   "file_extension": ".py",
   "mimetype": "text/x-python",
   "name": "python",
   "nbconvert_exporter": "python",
   "pygments_lexer": "ipython3",
   "version": "3.12.8"
  }
 },
 "nbformat": 4,
 "nbformat_minor": 5
}
