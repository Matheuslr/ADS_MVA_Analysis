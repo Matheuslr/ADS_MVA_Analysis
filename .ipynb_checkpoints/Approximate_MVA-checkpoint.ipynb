{
 "cells": [
  {
   "cell_type": "code",
   "execution_count": 81,
   "id": "be23a192-397d-4554-9e3d-874d3338205c",
   "metadata": {},
   "outputs": [
    {
     "name": "stdout",
     "output_type": "stream",
     "text": [
      "Iteracao 1 - | R_cpu = 0.917 | R_d1 = 2.200 | R_d2 = 1.467 | R_system = 44.000 | X0 = 0.417 | N_cpu = 6.111 | N_d1 = 9.167 | N_d2 = 3.056\n",
      "Iteracao 2 - | R_cpu = 0.851 | R_d1 = 2.912 | R_d2 = 0.781 | R_system = 46.639 | X0 = 0.395 | N_cpu = 5.376 | N_d1 = 11.503 | N_d2 = 1.541\n",
      "Iteracao 3 - | R_cpu = 0.763 | R_d1 = 3.578 | R_d2 = 0.493 | R_system = 50.462 | X0 = 0.367 | N_cpu = 4.485 | N_d1 = 13.141 | N_d2 = 0.905\n",
      "Iteracao 4 - | R_cpu = 0.658 | R_d1 = 4.045 | R_d2 = 0.372 | R_system = 52.833 | X0 = 0.352 | N_cpu = 3.703 | N_d1 = 14.235 | N_d2 = 0.654\n",
      "Iteracao 5 - | R_cpu = 0.565 | R_d1 = 4.357 | R_d2 = 0.324 | R_system = 54.227 | X0 = 0.343 | N_cpu = 3.103 | N_d1 = 14.966 | N_d2 = 0.557\n",
      "Iteracao 6 - | R_cpu = 0.494 | R_d1 = 4.565 | R_d2 = 0.306 | R_system = 55.078 | X0 = 0.339 | N_cpu = 2.673 | N_d1 = 15.455 | N_d2 = 0.518\n",
      "Iteracao 7 - | R_cpu = 0.442 | R_d1 = 4.705 | R_d2 = 0.298 | R_system = 55.617 | X0 = 0.335 | N_cpu = 2.375 | N_d1 = 15.783 | N_d2 = 0.500\n",
      "Iteracao 8 - | R_cpu = 0.407 | R_d1 = 4.798 | R_d2 = 0.295 | R_system = 55.969 | X0 = 0.334 | N_cpu = 2.172 | N_d1 = 16.002 | N_d2 = 0.492\n",
      "Iteracao 9 - | R_cpu = 0.383 | R_d1 = 4.861 | R_d2 = 0.293 | R_system = 56.200 | X0 = 0.332 | N_cpu = 2.035 | N_d1 = 16.148 | N_d2 = 0.488\n",
      "Iteracao 10 - | R_cpu = 0.367 | R_d1 = 4.902 | R_d2 = 0.293 | R_system = 56.353 | X0 = 0.331 | N_cpu = 1.944 | N_d1 = 16.245 | N_d2 = 0.485\n",
      "Iteracao 11 - | R_cpu = 0.356 | R_d1 = 4.930 | R_d2 = 0.292 | R_system = 56.454 | X0 = 0.331 | N_cpu = 1.884 | N_d1 = 16.310 | N_d2 = 0.483\n",
      "Iteracao 12 - | R_cpu = 0.349 | R_d1 = 4.948 | R_d2 = 0.292 | R_system = 56.521 | X0 = 0.330 | N_cpu = 1.844 | N_d1 = 16.352 | N_d2 = 0.482\n",
      "Iteracao 13 - | R_cpu = 0.344 | R_d1 = 4.960 | R_d2 = 0.292 | R_system = 56.565 | X0 = 0.330 | N_cpu = 1.817 | N_d1 = 16.380 | N_d2 = 0.481\n",
      "Iteracao 14 - | R_cpu = 0.341 | R_d1 = 4.968 | R_d2 = 0.291 | R_system = 56.594 | X0 = 0.330 | N_cpu = 1.800 | N_d1 = 16.399 | N_d2 = 0.481\n",
      "Iteracao 15 - | R_cpu = 0.339 | R_d1 = 4.974 | R_d2 = 0.291 | R_system = 56.613 | X0 = 0.330 | N_cpu = 1.788 | N_d1 = 16.411 | N_d2 = 0.481\n",
      "Iteracao 16 - | R_cpu = 0.337 | R_d1 = 4.977 | R_d2 = 0.291 | R_system = 56.626 | X0 = 0.330 | N_cpu = 1.781 | N_d1 = 16.419 | N_d2 = 0.481\n"
     ]
    }
   ],
   "source": [
    "from copy import deepcopy\n",
    "import numpy as np\n",
    "import csv\n",
    "\n",
    "\n",
    "K = 3\n",
    "N = 20\n",
    "R = 0\n",
    "Z = 4\n",
    "Ni = np.array(Ni)\n",
    "Ri = []\n",
    "Si = [0.125, 0.3, 0.2]\n",
    "Vi = [16, 10, 5]\n",
    "X0 = 0\n",
    "n = 0\n",
    "epsilon = 0.01\n",
    "Ni_old = np.array(Ni_old)\n",
    "csv_keys = [\"No\", \"R_cpu\", \"R_d1\", \"R_d2\", \"R_sys\", \"X0\", \"N_cpu\", \"N_d1\", \"N_d2\"]\n",
    "csv_values = []\n",
    "\n",
    "for i in range(K):\n",
    "    Ni[i] = (N/K)\n",
    "    Ri.append(0)\n",
    "    Ni_old[0] = (0)\n",
    "    \n",
    "while max(Ni - Ni_old) > epsilon:\n",
    "    R = 0\n",
    "    for i in range(K):\n",
    "        Ri[i] = Si[i] * (1 + ((N - 1)/N)*Ni[i])\n",
    "        R += Ri[i] * Vi[i]\n",
    "    X0 = N / (R + Z)\n",
    "    Ni_old = deepcopy(Ni)\n",
    "    for i in range(K):\n",
    "        Ni[i] = X0 * Vi[i] * Ri[i]\n",
    "    print(\n",
    "        f\"Iteracao {n+1} -\"\n",
    "        f\" | R_cpu = {format(Ri[0], '.3f')}\"\n",
    "        f\" | R_d1 = {format(Ri[1], '.3f')}\"\n",
    "        f\" | R_d2 = {format(Ri[2], '.3f')}\"\n",
    "        f\" | R_system = {format(R, '.3f')}\"\n",
    "        f\" | X0 = {format(X0, '.3f')}\"\n",
    "        f\" | N_cpu = {format(Ni[0], '.3f')}\"\n",
    "        f\" | N_d1 = {format(Ni[1], '.3f')}\"\n",
    "        f\" | N_d2 = {format(Ni[2], '.3f')}\"\n",
    "    )\n",
    "    csv_values.append([\n",
    "            n+1,\n",
    "            float(format(Ri[0], '.3f')),\n",
    "            float(format(Ri[1], '.3f')),\n",
    "            float(format(Ri[2], '.3f')),\n",
    "            float(format(R, '.3f')),\n",
    "            float(format(X0, '.3f')),\n",
    "            float(format(Ni[0], '.3f')),\n",
    "            float(format(Ni[1], '.3f')),\n",
    "            float(format(Ni[2], '.3f'))\n",
    "        ])\n",
    "    n=n+1\n",
    "with open('output.csv', 'w', newline='') as csvfile:\n",
    "    writer = csv.writer(csvfile)\n",
    "    writer.writerow(csv_keys)\n",
    "    writer.writerows(csv_values)"
   ]
  },
  {
   "cell_type": "code",
   "execution_count": 78,
   "id": "5c1d49a7-e0ef-4088-b9e1-a9fb8213d944",
   "metadata": {},
   "outputs": [],
   "source": []
  }
 ],
 "metadata": {
  "kernelspec": {
   "display_name": "Python 3 (ipykernel)",
   "language": "python",
   "name": "python3"
  },
  "language_info": {
   "codemirror_mode": {
    "name": "ipython",
    "version": 3
   },
   "file_extension": ".py",
   "mimetype": "text/x-python",
   "name": "python",
   "nbconvert_exporter": "python",
   "pygments_lexer": "ipython3",
   "version": "3.12.8"
  }
 },
 "nbformat": 4,
 "nbformat_minor": 5
}
