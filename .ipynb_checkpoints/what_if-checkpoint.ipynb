{
 "cells": [
  {
   "cell_type": "code",
   "execution_count": 11,
   "id": "64bb17cb-697b-42f9-bfc1-fa69dfd5bc01",
   "metadata": {},
   "outputs": [],
   "source": [
    "import numpy as np"
   ]
  },
  {
   "cell_type": "code",
   "execution_count": 43,
   "id": "975c63f4-8e8e-4e50-889b-a6c0b2797055",
   "metadata": {},
   "outputs": [],
   "source": [
    "matrix = np.loadtxt('matrix.csv', delimiter=',')\n",
    "B = [0]*15\n",
    "B[-1] = 1"
   ]
  },
  {
   "cell_type": "code",
   "execution_count": 44,
   "id": "00f9c00a-7667-4c91-97ec-7b225cde1454",
   "metadata": {},
   "outputs": [
    {
     "data": {
      "text/plain": [
       "array([ 0.05438841,  0.03032811,  0.10250902,  0.02138132,  0.0482217 ,\n",
       "        0.21108366,  0.0156948 ,  0.03002483,  0.03002483,  0.64553387,\n",
       "        0.0117711 ,  0.02285981,  0.03002483, -2.51935629,  2.26550999])"
      ]
     },
     "execution_count": 44,
     "metadata": {},
     "output_type": "execute_result"
    }
   ],
   "source": [
    "result = np.linalg.solve(matrix,B)\n",
    "result"
   ]
  },
  {
   "cell_type": "code",
   "execution_count": 45,
   "id": "c2e7555e-820d-43d4-a3c4-814d79c76bdf",
   "metadata": {},
   "outputs": [
    {
     "data": {
      "text/plain": [
       "np.float64(1.0000000000000004)"
      ]
     },
     "execution_count": 45,
     "metadata": {},
     "output_type": "execute_result"
    }
   ],
   "source": [
    "result.sum()"
   ]
  }
 ],
 "metadata": {
  "kernelspec": {
   "display_name": "Python 3 (ipykernel)",
   "language": "python",
   "name": "python3"
  },
  "language_info": {
   "codemirror_mode": {
    "name": "ipython",
    "version": 3
   },
   "file_extension": ".py",
   "mimetype": "text/x-python",
   "name": "python",
   "nbconvert_exporter": "python",
   "pygments_lexer": "ipython3",
   "version": "3.12.8"
  }
 },
 "nbformat": 4,
 "nbformat_minor": 5
}
